{
 "cells": [
  {
   "cell_type": "markdown",
   "id": "1fb2012f-6ca0-4d27-91e6-7588de9111d8",
   "metadata": {},
   "source": [
    "Problem 1"
   ]
  },
  {
   "cell_type": "code",
   "execution_count": 8,
   "id": "d19450a4-d7f8-490c-9fb3-3bd793819d21",
   "metadata": {},
   "outputs": [
    {
     "name": "stdin",
     "output_type": "stream",
     "text": [
      " 1 2 4 5\n"
     ]
    },
    {
     "name": "stdout",
     "output_type": "stream",
     "text": [
      "4224\n"
     ]
    }
   ],
   "source": [
    "def compute_sum(A, B, C, D):\n",
    "    def sum_dim(max_val):\n",
    "        total = 0\n",
    "        for x in range(-max_val, max_val + 1):\n",
    "            x = abs(x)\n",
    "            if x == 0:\n",
    "                total += 0\n",
    "                continue\n",
    "            n = 0\n",
    "            s = 0\n",
    "            while s < x:\n",
    "                n += 1\n",
    "                s += n\n",
    "            total += n\n",
    "        return total\n",
    "\n",
    "    sum_a = sum_dim(A)\n",
    "    sum_b = sum_dim(B)\n",
    "    sum_c = sum_dim(C)\n",
    "    sum_d = sum_dim(D)\n",
    "    return sum_a * sum_b * sum_c * sum_d\n",
    "\n",
    "A, B, C, D = map(int, input().split())\n",
    "print(compute_sum(A, B, C, D))"
   ]
  },
  {
   "cell_type": "markdown",
   "id": "b56c0a68-b2bb-4e18-a21c-5356db0f3dc6",
   "metadata": {},
   "source": [
    "Problem 2"
   ]
  },
  {
   "cell_type": "code",
   "execution_count": 25,
   "id": "3c0e2a58-2d3e-4320-8860-8d95ea0bda3b",
   "metadata": {},
   "outputs": [
    {
     "name": "stdin",
     "output_type": "stream",
     "text": [
      " 2 5\n",
      " 2 5\n"
     ]
    },
    {
     "name": "stdout",
     "output_type": "stream",
     "text": [
      "1.5\n"
     ]
    }
   ],
   "source": [
    "n, l = map(int, input().split())\n",
    "a = list(map(int, input().split()))\n",
    "a.sort()\n",
    "\n",
    "max_gap = a[0] - 0\n",
    "for i in range(1, n):\n",
    "    gap = a[i] - a[i-1]\n",
    "    if gap > max_gap:\n",
    "        max_gap = gap\n",
    "max_gap = max(max_gap, l - a[-1])\n",
    "\n",
    "d = max_gap / 2\n",
    "print(d)"
   ]
  },
  {
   "cell_type": "markdown",
   "id": "4be82aeb-97eb-4fee-9328-3dcf201cd34c",
   "metadata": {},
   "source": [
    "Problem 3"
   ]
  },
  {
   "cell_type": "code",
   "execution_count": 32,
   "id": "0f75da93-70a2-4202-81c7-16d44f040172",
   "metadata": {},
   "outputs": [
    {
     "name": "stdin",
     "output_type": "stream",
     "text": [
      " 5 \n",
      " 1 2 3 4\n"
     ]
    },
    {
     "name": "stdout",
     "output_type": "stream",
     "text": [
      "4\n"
     ]
    }
   ],
   "source": [
    "n = int(input())\n",
    "s = list(map(int, input().split()))\n",
    "\n",
    "count = [0] * 5\n",
    "for num in s:\n",
    "    count[num] += 1\n",
    "\n",
    "taxis = 0\n",
    "\n",
    "taxis += count[4]\n",
    "taxis += count[3]\n",
    "count[1] += count[3]\n",
    "\n",
    "taxis += count[2] // 2\n",
    "if count[2] % 2:\n",
    "    taxis += 1\n",
    "    count[1] += 2\n",
    "\n",
    "taxis += count[1] // 4\n",
    "if count[1] % 4:\n",
    "    taxis += 1\n",
    "\n",
    "print(taxis)"
   ]
  },
  {
   "cell_type": "markdown",
   "id": "9f080f3d-4ec6-4d5b-94f0-232126a673dd",
   "metadata": {},
   "source": [
    "Problem 4"
   ]
  },
  {
   "cell_type": "code",
   "execution_count": null,
   "id": "33ea5b89-1fc7-4fc5-9df4-6113841eecba",
   "metadata": {},
   "outputs": [],
   "source": [
    "s = input().strip()\n",
    "parts = s.split('WUB')\n",
    "parts = [p for p in parts if p]\n",
    "print(' '.join(parts))"
   ]
  },
  {
   "cell_type": "code",
   "execution_count": null,
   "id": "b581c538-bc25-4190-be9d-b35e829ea61b",
   "metadata": {},
   "outputs": [],
   "source": []
  }
 ],
 "metadata": {
  "kernelspec": {
   "display_name": "Python 3 (ipykernel)",
   "language": "python",
   "name": "python3"
  },
  "language_info": {
   "codemirror_mode": {
    "name": "ipython",
    "version": 3
   },
   "file_extension": ".py",
   "mimetype": "text/x-python",
   "name": "python",
   "nbconvert_exporter": "python",
   "pygments_lexer": "ipython3",
   "version": "3.12.4"
  }
 },
 "nbformat": 4,
 "nbformat_minor": 5
}
